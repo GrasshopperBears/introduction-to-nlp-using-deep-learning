{
 "cells": [
  {
   "cell_type": "code",
   "execution_count": 1,
   "metadata": {},
   "outputs": [],
   "source": [
    "from nltk.tokenize import TreebankWordTokenizer\n",
    "\n",
    "tokenizer = TreebankWordTokenizer()"
   ]
  },
  {
   "cell_type": "code",
   "execution_count": 2,
   "metadata": {},
   "outputs": [
    {
     "name": "stdout",
     "output_type": "stream",
     "text": [
      "['Instagram', 'is', 'no', 'longer', 'going', 'to', 'be', 'a', 'photo-sharing', 'app', ',', 'Instagram', 'boss', 'Adam', 'Mosseri', 'announced', 'earlier', 'this', 'summer.', 'So', 'what', 'is', 'Instagram', 'going', 'to', 'be', 'instead', '?', 'Mosseri', 'talks', 'to', 'Recode’s', 'Peter', 'Kafka', 'about', 'his', 'plans', 'to', 'emphasize', 'video', 'and', 'commerce', 'for', 'the', 'service', ',', 'competing', 'with', 'Tik-Tok', ',', 'and', 'looming', 'regulation', '.']\n"
     ]
    }
   ],
   "source": [
    "text = 'Instagram is no longer going to be a photo-sharing app, Instagram boss Adam Mosseri announced earlier this summer.\\\n",
    "        So what is Instagram going to be instead? Mosseri talks to Recode’s Peter Kafka about his plans to emphasize video and \\\n",
    "        commerce for the service, competing with Tik-Tok, and looming regulation.'\n",
    "print(tokenizer.tokenize(text))"
   ]
  },
  {
   "cell_type": "code",
   "execution_count": 4,
   "metadata": {},
   "outputs": [
    {
     "name": "stderr",
     "output_type": "stream",
     "text": [
      "[nltk_data] Downloading package punkt to\n",
      "[nltk_data]     C:\\Users\\stard\\AppData\\Roaming\\nltk_data...\n",
      "[nltk_data]   Unzipping tokenizers\\punkt.zip.\n"
     ]
    },
    {
     "data": {
      "text/plain": [
       "['His barber kept his word.',\n",
       " 'But keeping such a huge secret to himself was driving him crazy.',\n",
       " 'Finally, the barber went up a mountain and almost to the edge of a cliff.',\n",
       " 'He dug a hole in the midst of some reeds.',\n",
       " 'He looked about, to make sure no one was near.']"
      ]
     },
     "execution_count": 4,
     "metadata": {},
     "output_type": "execute_result"
    }
   ],
   "source": [
    "from nltk.tokenize import sent_tokenize\n",
    "import nltk\n",
    "nltk.download('punkt')\n",
    "\n",
    "text = \"His barber kept his word. But keeping such a huge secret to himself was driving him crazy. \\\n",
    "        Finally, the barber went up a mountain and almost to the edge of a cliff. He dug a hole in the midst of some reeds. \\\n",
    "        He looked about, to make sure no one was near.\"\n",
    "sent_tokenize(text)"
   ]
  },
  {
   "cell_type": "code",
   "execution_count": 5,
   "metadata": {},
   "outputs": [
    {
     "data": {
      "text/plain": [
       "['I am actively looking for Ph.D. students.', 'and you are a Ph.D student.']"
      ]
     },
     "execution_count": 5,
     "metadata": {},
     "output_type": "execute_result"
    }
   ],
   "source": [
    "text_with_period = \"I am actively looking for Ph.D. students. and you are a Ph.D student.\"\n",
    "sent_tokenize(text_with_period)"
   ]
  },
  {
   "cell_type": "markdown",
   "metadata": {},
   "source": [
    "# 품사 태깅"
   ]
  },
  {
   "cell_type": "code",
   "execution_count": 10,
   "metadata": {},
   "outputs": [
    {
     "name": "stderr",
     "output_type": "stream",
     "text": [
      "[nltk_data] Downloading package averaged_perceptron_tagger to\n",
      "[nltk_data]     C:\\Users\\stard\\AppData\\Roaming\\nltk_data...\n",
      "[nltk_data]   Unzipping taggers\\averaged_perceptron_tagger.zip.\n"
     ]
    },
    {
     "data": {
      "text/plain": [
       "[('Instagram', 'NNP'),\n",
       " ('is', 'VBZ'),\n",
       " ('no', 'RB'),\n",
       " ('longer', 'RB'),\n",
       " ('going', 'VBG'),\n",
       " ('to', 'TO'),\n",
       " ('be', 'VB'),\n",
       " ('a', 'DT'),\n",
       " ('photo-sharing', 'JJ'),\n",
       " ('app', 'NN'),\n",
       " (',', ','),\n",
       " ('Instagram', 'NNP'),\n",
       " ('boss', 'IN'),\n",
       " ('Adam', 'NNP'),\n",
       " ('Mosseri', 'NNP'),\n",
       " ('announced', 'VBD'),\n",
       " ('earlier', 'RBR'),\n",
       " ('this', 'DT'),\n",
       " ('summer', 'NN'),\n",
       " ('.', '.'),\n",
       " ('So', 'IN'),\n",
       " ('what', 'WP'),\n",
       " ('is', 'VBZ'),\n",
       " ('Instagram', 'NNP'),\n",
       " ('going', 'VBG'),\n",
       " ('to', 'TO'),\n",
       " ('be', 'VB'),\n",
       " ('instead', 'RB'),\n",
       " ('?', '.'),\n",
       " ('Mosseri', 'NNP'),\n",
       " ('talks', 'NNS'),\n",
       " ('to', 'TO'),\n",
       " ('Recode', 'NNP'),\n",
       " ('’', 'NNP'),\n",
       " ('s', 'VBP'),\n",
       " ('Peter', 'NNP'),\n",
       " ('Kafka', 'NNP'),\n",
       " ('about', 'IN'),\n",
       " ('his', 'PRP$'),\n",
       " ('plans', 'NNS'),\n",
       " ('to', 'TO'),\n",
       " ('emphasize', 'VB'),\n",
       " ('video', 'NN'),\n",
       " ('and', 'CC'),\n",
       " ('commerce', 'NN'),\n",
       " ('for', 'IN'),\n",
       " ('the', 'DT'),\n",
       " ('service', 'NN'),\n",
       " (',', ','),\n",
       " ('competing', 'VBG'),\n",
       " ('with', 'IN'),\n",
       " ('Tik-Tok', 'NNP'),\n",
       " (',', ','),\n",
       " ('and', 'CC'),\n",
       " ('looming', 'VBG'),\n",
       " ('regulation', 'NN'),\n",
       " ('.', '.')]"
      ]
     },
     "execution_count": 10,
     "metadata": {},
     "output_type": "execute_result"
    }
   ],
   "source": [
    "from nltk.tokenize import word_tokenize\n",
    "from nltk.tag import pos_tag\n",
    "\n",
    "nltk.download('averaged_perceptron_tagger')\n",
    "\n",
    "text = 'Instagram is no longer going to be a photo-sharing app, Instagram boss Adam Mosseri announced earlier this summer.\\\n",
    "        So what is Instagram going to be instead? Mosseri talks to Recode’s Peter Kafka about his plans to emphasize video and \\\n",
    "        commerce for the service, competing with Tik-Tok, and looming regulation.'\n",
    "\n",
    "pos_tag(word_tokenize(text))"
   ]
  },
  {
   "cell_type": "markdown",
   "metadata": {},
   "source": [
    "- PRP: 인칭 대명사\n",
    "- VBP: 동사\n",
    "- RB: 부사\n",
    "- VBG: 현재부사IN은 전치사\n",
    "- NNP: 고유 명사\n",
    "- NNS: 복수형 명사\n",
    "- CC: 접속사\n",
    "- DT: 관사"
   ]
  },
  {
   "cell_type": "markdown",
   "metadata": {},
   "source": [
    "## 한국어의 경우"
   ]
  },
  {
   "cell_type": "markdown",
   "metadata": {},
   "source": [
    "### Okt"
   ]
  },
  {
   "cell_type": "code",
   "execution_count": 3,
   "metadata": {},
   "outputs": [],
   "source": [
    "from konlpy.tag import Okt\n",
    "okt = Okt()"
   ]
  },
  {
   "cell_type": "code",
   "execution_count": 5,
   "metadata": {},
   "outputs": [],
   "source": [
    "text = \"국내 거래소에서 가상자산인 비트코인 가격이 5개월 만에 7천만 원대를 회복했습니다.\\\n",
    "        가상자산 거래소 업비트에 따르면 오늘(11일) 오후 3시 6분 현재 1비트코인은 6천970만4천 원입니다.\""
   ]
  },
  {
   "cell_type": "markdown",
   "metadata": {},
   "source": [
    "#### 형태소 추출"
   ]
  },
  {
   "cell_type": "code",
   "execution_count": 6,
   "metadata": {},
   "outputs": [
    {
     "data": {
      "text/plain": [
       "['국내',\n",
       " '거래소',\n",
       " '에서',\n",
       " '가상',\n",
       " '자산',\n",
       " '인',\n",
       " '비트코인',\n",
       " '가격',\n",
       " '이',\n",
       " '5',\n",
       " '개월',\n",
       " '만에',\n",
       " '7천만',\n",
       " '원대',\n",
       " '를',\n",
       " '회복했습니다',\n",
       " '.',\n",
       " '가상',\n",
       " '자산',\n",
       " '거래소',\n",
       " '업',\n",
       " '비트',\n",
       " '에',\n",
       " '따르면',\n",
       " '오늘',\n",
       " '(',\n",
       " '11일',\n",
       " ')',\n",
       " '오후',\n",
       " '3시',\n",
       " '6분',\n",
       " '현재',\n",
       " '1',\n",
       " '비트코인',\n",
       " '은',\n",
       " '6천',\n",
       " '970만',\n",
       " '4천',\n",
       " '원',\n",
       " '입니다',\n",
       " '.']"
      ]
     },
     "execution_count": 6,
     "metadata": {},
     "output_type": "execute_result"
    }
   ],
   "source": [
    "okt.morphs(text)"
   ]
  },
  {
   "cell_type": "markdown",
   "metadata": {},
   "source": [
    "#### 품사 태깅"
   ]
  },
  {
   "cell_type": "code",
   "execution_count": 7,
   "metadata": {},
   "outputs": [
    {
     "data": {
      "text/plain": [
       "[('국내', 'Noun'),\n",
       " ('거래소', 'Noun'),\n",
       " ('에서', 'Josa'),\n",
       " ('가상', 'Noun'),\n",
       " ('자산', 'Noun'),\n",
       " ('인', 'Josa'),\n",
       " ('비트코인', 'Noun'),\n",
       " ('가격', 'Noun'),\n",
       " ('이', 'Josa'),\n",
       " ('5', 'Number'),\n",
       " ('개월', 'Noun'),\n",
       " ('만에', 'Josa'),\n",
       " ('7천만', 'Number'),\n",
       " ('원대', 'Noun'),\n",
       " ('를', 'Josa'),\n",
       " ('회복했습니다', 'Adjective'),\n",
       " ('.', 'Punctuation'),\n",
       " ('가상', 'Noun'),\n",
       " ('자산', 'Noun'),\n",
       " ('거래소', 'Noun'),\n",
       " ('업', 'Noun'),\n",
       " ('비트', 'Noun'),\n",
       " ('에', 'Josa'),\n",
       " ('따르면', 'Verb'),\n",
       " ('오늘', 'Noun'),\n",
       " ('(', 'Punctuation'),\n",
       " ('11일', 'Number'),\n",
       " (')', 'Punctuation'),\n",
       " ('오후', 'Noun'),\n",
       " ('3시', 'Number'),\n",
       " ('6분', 'Number'),\n",
       " ('현재', 'Noun'),\n",
       " ('1', 'Number'),\n",
       " ('비트코인', 'Noun'),\n",
       " ('은', 'Josa'),\n",
       " ('6천', 'Number'),\n",
       " ('970만', 'Number'),\n",
       " ('4천', 'Number'),\n",
       " ('원', 'Noun'),\n",
       " ('입니다', 'Adjective'),\n",
       " ('.', 'Punctuation')]"
      ]
     },
     "execution_count": 7,
     "metadata": {},
     "output_type": "execute_result"
    }
   ],
   "source": [
    "okt.pos(text)"
   ]
  },
  {
   "cell_type": "markdown",
   "metadata": {},
   "source": [
    "#### 명사 추출"
   ]
  },
  {
   "cell_type": "code",
   "execution_count": 9,
   "metadata": {},
   "outputs": [
    {
     "data": {
      "text/plain": [
       "['국내',\n",
       " '거래소',\n",
       " '가상',\n",
       " '자산',\n",
       " '비트코인',\n",
       " '가격',\n",
       " '개월',\n",
       " '원대',\n",
       " '가상',\n",
       " '자산',\n",
       " '거래소',\n",
       " '업',\n",
       " '비트',\n",
       " '오늘',\n",
       " '오후',\n",
       " '현재',\n",
       " '비트코인',\n",
       " '원']"
      ]
     },
     "execution_count": 9,
     "metadata": {},
     "output_type": "execute_result"
    }
   ],
   "source": [
    "okt.nouns(text)"
   ]
  },
  {
   "cell_type": "markdown",
   "metadata": {},
   "source": [
    "### 꼬꼬마"
   ]
  },
  {
   "cell_type": "code",
   "execution_count": 10,
   "metadata": {},
   "outputs": [],
   "source": [
    "from konlpy.tag import Kkma\n",
    "\n",
    "kkma = Kkma()"
   ]
  },
  {
   "cell_type": "code",
   "execution_count": 11,
   "metadata": {},
   "outputs": [
    {
     "data": {
      "text/plain": [
       "['국내',\n",
       " '거래소',\n",
       " '에서',\n",
       " '가상',\n",
       " '자산',\n",
       " '이',\n",
       " 'ㄴ',\n",
       " '비트',\n",
       " '코',\n",
       " '이',\n",
       " 'ㄴ',\n",
       " '가격',\n",
       " '이',\n",
       " '5',\n",
       " '개월',\n",
       " '만',\n",
       " '에',\n",
       " '7',\n",
       " '천만',\n",
       " '원대',\n",
       " '를',\n",
       " '회복',\n",
       " '하',\n",
       " '었',\n",
       " '습니다',\n",
       " '.',\n",
       " '가상',\n",
       " '자산',\n",
       " '거래소',\n",
       " '업',\n",
       " '비트',\n",
       " '에',\n",
       " '따르',\n",
       " '면',\n",
       " '오늘',\n",
       " '(',\n",
       " '11',\n",
       " '일',\n",
       " ')',\n",
       " '오후',\n",
       " '3',\n",
       " '시',\n",
       " '6',\n",
       " '분',\n",
       " '현재',\n",
       " '1',\n",
       " '비트',\n",
       " '코',\n",
       " '인은',\n",
       " '6',\n",
       " '천',\n",
       " '970',\n",
       " '만',\n",
       " '4',\n",
       " '천',\n",
       " '원',\n",
       " '이',\n",
       " 'ㅂ니다',\n",
       " '.']"
      ]
     },
     "execution_count": 11,
     "metadata": {},
     "output_type": "execute_result"
    }
   ],
   "source": [
    "kkma.morphs(text)"
   ]
  },
  {
   "cell_type": "code",
   "execution_count": 12,
   "metadata": {},
   "outputs": [
    {
     "data": {
      "text/plain": [
       "[('국내', 'NNG'),\n",
       " ('거래소', 'NNG'),\n",
       " ('에서', 'JKM'),\n",
       " ('가상', 'NNG'),\n",
       " ('자산', 'NNG'),\n",
       " ('이', 'VCP'),\n",
       " ('ㄴ', 'ETD'),\n",
       " ('비트', 'NNG'),\n",
       " ('코', 'NNG'),\n",
       " ('이', 'VCP'),\n",
       " ('ㄴ', 'ETD'),\n",
       " ('가격', 'NNG'),\n",
       " ('이', 'JKS'),\n",
       " ('5', 'NR'),\n",
       " ('개월', 'NNM'),\n",
       " ('만', 'NNB'),\n",
       " ('에', 'JKM'),\n",
       " ('7', 'NR'),\n",
       " ('천만', 'NR'),\n",
       " ('원대', 'NNG'),\n",
       " ('를', 'JKO'),\n",
       " ('회복', 'NNG'),\n",
       " ('하', 'XSV'),\n",
       " ('었', 'EPT'),\n",
       " ('습니다', 'EFN'),\n",
       " ('.', 'SF'),\n",
       " ('가상', 'NNG'),\n",
       " ('자산', 'NNG'),\n",
       " ('거래소', 'NNG'),\n",
       " ('업', 'NNG'),\n",
       " ('비트', 'NNG'),\n",
       " ('에', 'JKM'),\n",
       " ('따르', 'VV'),\n",
       " ('면', 'ECE'),\n",
       " ('오늘', 'NNG'),\n",
       " ('(', 'SS'),\n",
       " ('11', 'NR'),\n",
       " ('일', 'NNM'),\n",
       " (')', 'SS'),\n",
       " ('오후', 'NNG'),\n",
       " ('3', 'NR'),\n",
       " ('시', 'NNM'),\n",
       " ('6', 'NR'),\n",
       " ('분', 'NNM'),\n",
       " ('현재', 'MAG'),\n",
       " ('1', 'NR'),\n",
       " ('비트', 'NNG'),\n",
       " ('코', 'NNG'),\n",
       " ('인은', 'NNG'),\n",
       " ('6', 'NR'),\n",
       " ('천', 'NR'),\n",
       " ('970', 'NR'),\n",
       " ('만', 'NR'),\n",
       " ('4', 'NR'),\n",
       " ('천', 'NR'),\n",
       " ('원', 'NNM'),\n",
       " ('이', 'VCP'),\n",
       " ('ㅂ니다', 'EFN'),\n",
       " ('.', 'SF')]"
      ]
     },
     "execution_count": 12,
     "metadata": {},
     "output_type": "execute_result"
    }
   ],
   "source": [
    "kkma.pos(text)"
   ]
  },
  {
   "cell_type": "code",
   "execution_count": 13,
   "metadata": {},
   "outputs": [
    {
     "data": {
      "text/plain": [
       "['국내',\n",
       " '거래소',\n",
       " '가상',\n",
       " '가상자산',\n",
       " '자산',\n",
       " '비트',\n",
       " '비트코',\n",
       " '코',\n",
       " '가격',\n",
       " '5',\n",
       " '5개월',\n",
       " '개월',\n",
       " '만',\n",
       " '7',\n",
       " '7천만',\n",
       " '천만',\n",
       " '원대',\n",
       " '회복',\n",
       " '업',\n",
       " '업비트',\n",
       " '오늘',\n",
       " '11',\n",
       " '11일',\n",
       " '일',\n",
       " '오후',\n",
       " '3',\n",
       " '3시',\n",
       " '시',\n",
       " '6',\n",
       " '6분',\n",
       " '분',\n",
       " '1',\n",
       " '1비트코인은',\n",
       " '인은',\n",
       " '6천970만',\n",
       " '천',\n",
       " '970',\n",
       " '만',\n",
       " '4',\n",
       " '4천',\n",
       " '원']"
      ]
     },
     "execution_count": 13,
     "metadata": {},
     "output_type": "execute_result"
    }
   ],
   "source": [
    "kkma.nouns(text)"
   ]
  },
  {
   "cell_type": "code",
   "execution_count": null,
   "metadata": {},
   "outputs": [],
   "source": []
  }
 ],
 "metadata": {
  "interpreter": {
   "hash": "6789508ceeaccbe47aea1c70b02333ea011fa510523088ae833dfeb46faabebe"
  },
  "kernelspec": {
   "display_name": "Python 3.7.11 64-bit ('nlp-intro': conda)",
   "name": "python3"
  },
  "language_info": {
   "codemirror_mode": {
    "name": "ipython",
    "version": 3
   },
   "file_extension": ".py",
   "mimetype": "text/x-python",
   "name": "python",
   "nbconvert_exporter": "python",
   "pygments_lexer": "ipython3",
   "version": "3.7.11"
  },
  "orig_nbformat": 4
 },
 "nbformat": 4,
 "nbformat_minor": 2
}
